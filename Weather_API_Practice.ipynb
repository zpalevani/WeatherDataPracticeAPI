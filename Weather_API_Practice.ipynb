{
  "nbformat": 4,
  "nbformat_minor": 0,
  "metadata": {
    "colab": {
      "provenance": [],
      "authorship_tag": "ABX9TyPoXbq6K6mmVTPDgMO/uGXr",
      "include_colab_link": true
    },
    "kernelspec": {
      "name": "python3",
      "display_name": "Python 3"
    },
    "language_info": {
      "name": "python"
    }
  },
  "cells": [
    {
      "cell_type": "markdown",
      "metadata": {
        "id": "view-in-github",
        "colab_type": "text"
      },
      "source": [
        "<a href=\"https://colab.research.google.com/github/zpalevani/WeatherDataPracticeAPI/blob/main/Weather_API_Practice.ipynb\" target=\"_parent\"><img src=\"https://colab.research.google.com/assets/colab-badge.svg\" alt=\"Open In Colab\"/></a>"
      ]
    },
    {
      "cell_type": "markdown",
      "source": [
        "Data Source: [Link](https://eccc-msc.github.io/open-data/msc-geomet/readme_en/)"
      ],
      "metadata": {
        "id": "P2e_KSRneDIj"
      }
    },
    {
      "cell_type": "markdown",
      "source": [
        "API Request via Python - making a request from a weather dataset provided by the Gov of Canada"
      ],
      "metadata": {
        "id": "GueueagueL9E"
      }
    },
    {
      "cell_type": "markdown",
      "source": [
        "In Python, to use an API we use the `requests` module."
      ],
      "metadata": {
        "id": "Le55tFs8fkrr"
      }
    },
    {
      "cell_type": "code",
      "execution_count": 1,
      "metadata": {
        "id": "bGp1koQjdq0r"
      },
      "outputs": [],
      "source": [
        "import requests"
      ]
    },
    {
      "cell_type": "markdown",
      "source": [
        "Next, I have to build up the URL to access the API."
      ],
      "metadata": {
        "id": "6AVSOYkAhfPc"
      }
    },
    {
      "cell_type": "code",
      "source": [
        "api_base = 'https://geo.weather.gc.ca/geomet'"
      ],
      "metadata": {
        "id": "B8lQr31kfBjL"
      },
      "execution_count": 2,
      "outputs": []
    },
    {
      "cell_type": "code",
      "source": [
        "# day variable to be updated to the current day\n",
        "\n",
        "# Update this\n",
        "day = '2024-04-07'\n",
        "# Note: this is just a really long string broken into smaller pieces\n",
        "api_params = (\n",
        "    'SERVICE=WMS'\n",
        "    '&VERSION=1.3.0'\n",
        "    '&REQUEST=GetFeatureInfo'\n",
        "    '&BBOX=51,-114,51.5,-113.5' # specific location\n",
        "    '&CRS=EPSG:4326'\n",
        "    '&WIDTH=10'\n",
        "    '&HEIGHT=10'\n",
        "    '&LAYERS=GDPS.ETA_TT' # note\n",
        "    '&QUERY_LAYERS=GDPS.ETA_TT'\n",
        "    '&INFO_FORMAT=application/json'\n",
        "    '&I=5'\n",
        "    '&J=5'\n",
        "    f'&TIME={day}T15:00:00Z' # note: weather at specific time and day\n",
        ")"
      ],
      "metadata": {
        "id": "dE7oQE6kkV6m"
      },
      "execution_count": 5,
      "outputs": []
    },
    {
      "cell_type": "code",
      "source": [
        "url = api_base + '?' + api_params\n",
        "url"
      ],
      "metadata": {
        "colab": {
          "base_uri": "https://localhost:8080/",
          "height": 53
        },
        "id": "OmZNuMP8kbC4",
        "outputId": "db930d50-b0bc-4d68-bf71-b868bafc2d86"
      },
      "execution_count": 4,
      "outputs": [
        {
          "output_type": "execute_result",
          "data": {
            "text/plain": [
              "'https://geo.weather.gc.ca/geomet?SERVICE=WMS&VERSION=1.3.0&REQUEST=GetFeatureInfo&BBOX=51,-114,51.5,-113.5&CRS=EPSG:4326&WIDTH=10&HEIGHT=10&LAYERS=GDPS.ETA_TT&QUERY_LAYERS=GDPS.ETA_TT&INFO_FORMAT=application/json&I=5&J=5&TIME=2024-04-07T15:00:00Z'"
            ],
            "application/vnd.google.colaboratory.intrinsic+json": {
              "type": "string"
            }
          },
          "metadata": {},
          "execution_count": 4
        }
      ]
    },
    {
      "cell_type": "code",
      "source": [
        "# response = requests.get(url)"
      ],
      "metadata": {
        "id": "7rB5LkSYlcNW"
      },
      "execution_count": 27,
      "outputs": []
    },
    {
      "cell_type": "markdown",
      "source": [
        "Commented the above and below code out so I don't send uncessary reqeusts to the government website"
      ],
      "metadata": {
        "id": "U3AtB3RcsDwO"
      }
    },
    {
      "cell_type": "code",
      "source": [
        "# response\n",
        "\n",
        "# 200 means the request was successful"
      ],
      "metadata": {
        "id": "GjTyF-cgmAkT"
      },
      "execution_count": 29,
      "outputs": []
    },
    {
      "cell_type": "code",
      "source": [
        "from datetime import datetime\n",
        "\n",
        "# Automatically get today's date in YYYY-MM-DD format\n",
        "day = datetime.today().strftime('%Y-%m-%d')\n",
        "\n",
        "# Print the result\n",
        "print(\"Today's Date:\", day)\n",
        "\n"
      ],
      "metadata": {
        "colab": {
          "base_uri": "https://localhost:8080/"
        },
        "id": "vOWhyTNXnusd",
        "outputId": "ef544267-f050-48b5-d713-54b6f13afb8d"
      },
      "execution_count": 22,
      "outputs": [
        {
          "output_type": "stream",
          "name": "stdout",
          "text": [
            "Today's Date: 2025-02-17\n"
          ]
        }
      ]
    },
    {
      "cell_type": "code",
      "source": [
        "from datetime import datetime\n",
        "import requests\n",
        "\n",
        "# Get today's date in YYYY-MM-DD format\n",
        "day = datetime.today().strftime('%Y-%m-%d')\n"
      ],
      "metadata": {
        "id": "xVgf5E1soMjM"
      },
      "execution_count": 23,
      "outputs": []
    },
    {
      "cell_type": "code",
      "source": [
        "# Base URL for the API\n",
        "api_base = 'https://geo.weather.gc.ca/geomet'\n",
        "\n",
        "# API parameters for the request\n",
        "api_params = (\n",
        "    'SERVICE=WMS'\n",
        "    '&VERSION=1.3.0'\n",
        "    '&REQUEST=GetFeatureInfo'\n",
        "    '&BBOX=51,-114,51.5,-113.5'  # Location (Can change this for another city) https://www.latlong.net/\n",
        "\n",
        "    '&CRS=EPSG:4326'\n",
        "    '&WIDTH=10'\n",
        "    '&HEIGHT=10'\n",
        "    '&LAYERS=GDPS.ETA_TT'  # Air Temperature Layer\n",
        "    '&QUERY_LAYERS=GDPS.ETA_TT'\n",
        "    '&INFO_FORMAT=application/json'\n",
        "    '&I=5'\n",
        "    '&J=5'\n",
        "    f'&TIME={day}T15:00:00Z'  # Use the latest available time\n",
        ")\n",
        "\n",
        "# Combine base URL and parameters\n",
        "url = api_base + '?' + api_params\n",
        "\n",
        "# Make a request to the API\n",
        "response = requests.get(url)\n",
        "\n",
        "# Convert response to JSON\n",
        "data = response.json()\n",
        "\n",
        "# Extract the air temperature value\n",
        "temperature = data['features'][0]['properties']['value']\n",
        "\n",
        "# Display the live weather data\n",
        "print(f\"Live Air Temperature in Calgary: {temperature} °C\")\n",
        "\n"
      ],
      "metadata": {
        "colab": {
          "base_uri": "https://localhost:8080/"
        },
        "id": "6PK-ulQPoPkk",
        "outputId": "6c2d4a4d-dacd-4a9b-9c7a-02f18a2b3abe"
      },
      "execution_count": 26,
      "outputs": [
        {
          "output_type": "stream",
          "name": "stdout",
          "text": [
            "Live Air Temperature in Calgary: -27.024282 °C\n"
          ]
        }
      ]
    }
  ]
}